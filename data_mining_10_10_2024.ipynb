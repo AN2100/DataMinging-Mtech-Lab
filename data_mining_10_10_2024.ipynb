{
 "cells": [
  {
   "cell_type": "code",
   "execution_count": 61,
   "metadata": {},
   "outputs": [
    {
     "data": {
      "text/html": [
       "<div>\n",
       "<style scoped>\n",
       "    .dataframe tbody tr th:only-of-type {\n",
       "        vertical-align: middle;\n",
       "    }\n",
       "\n",
       "    .dataframe tbody tr th {\n",
       "        vertical-align: top;\n",
       "    }\n",
       "\n",
       "    .dataframe thead th {\n",
       "        text-align: right;\n",
       "    }\n",
       "</style>\n",
       "<table border=\"1\" class=\"dataframe\">\n",
       "  <thead>\n",
       "    <tr style=\"text-align: right;\">\n",
       "      <th></th>\n",
       "      <th>Transaction</th>\n",
       "      <th>Item Occurance</th>\n",
       "    </tr>\n",
       "  </thead>\n",
       "  <tbody>\n",
       "    <tr>\n",
       "      <th>0</th>\n",
       "      <td>1</td>\n",
       "      <td>a,b</td>\n",
       "    </tr>\n",
       "    <tr>\n",
       "      <th>1</th>\n",
       "      <td>2</td>\n",
       "      <td>a,c,d</td>\n",
       "    </tr>\n",
       "    <tr>\n",
       "      <th>2</th>\n",
       "      <td>3</td>\n",
       "      <td>a,b,c,d</td>\n",
       "    </tr>\n",
       "    <tr>\n",
       "      <th>3</th>\n",
       "      <td>4</td>\n",
       "      <td>a,d,e</td>\n",
       "    </tr>\n",
       "    <tr>\n",
       "      <th>4</th>\n",
       "      <td>5</td>\n",
       "      <td>b,c</td>\n",
       "    </tr>\n",
       "  </tbody>\n",
       "</table>\n",
       "</div>"
      ],
      "text/plain": [
       "   Transaction  Item Occurance\n",
       "0             1            a,b\n",
       "1             2          a,c,d\n",
       "2             3        a,b,c,d\n",
       "3             4          a,d,e\n",
       "4             5            b,c"
      ]
     },
     "execution_count": 61,
     "metadata": {},
     "output_type": "execute_result"
    }
   ],
   "source": [
    "import pandas as pd\n",
    "from itertools import combinations\n",
    "df = pd.read_excel(\"items1.xlsx\")\n",
    "\n",
    "df"
   ]
  },
  {
   "cell_type": "code",
   "execution_count": 54,
   "metadata": {},
   "outputs": [
    {
     "name": "stdout",
     "output_type": "stream",
     "text": [
      "[['a,b'], ['a,c,d'], ['a,b,c,d'], ['a,d,e'], ['b,c']]\n"
     ]
    },
    {
     "data": {
      "text/plain": [
       "[['b', 'a'],\n",
       " ['d', 'a', 'c'],\n",
       " ['d', 'c', 'b', 'a'],\n",
       " ['d', 'e', 'a'],\n",
       " ['b', 'c']]"
      ]
     },
     "execution_count": 54,
     "metadata": {},
     "output_type": "execute_result"
    }
   ],
   "source": [
    "transactions = df.groupby('Transaction ')['Item Occurance'].apply(list).tolist()\n",
    "tr = []\n",
    "print(transactions)\n",
    "for items in transactions:\n",
    "    for item in items:\n",
    "        item = list(set(item))\n",
    "        item.remove(',')\n",
    "        tr.append(item)\n",
    "tr\n",
    "        \n",
    "        \n",
    "        "
   ]
  },
  {
   "cell_type": "code",
   "execution_count": 4,
   "metadata": {},
   "outputs": [
    {
     "data": {
      "text/plain": [
       "Index(['Transaction ', 'Item Occurance'], dtype='object')"
      ]
     },
     "execution_count": 4,
     "metadata": {},
     "output_type": "execute_result"
    }
   ],
   "source": [
    "df.columns"
   ]
  },
  {
   "cell_type": "code",
   "execution_count": 5,
   "metadata": {},
   "outputs": [
    {
     "data": {
      "text/plain": [
       "0        a,b\n",
       "1      a,c,d\n",
       "2    a,b,c,d\n",
       "3      a,d,e\n",
       "4        b,c\n",
       "Name: Item Occurance, dtype: object"
      ]
     },
     "execution_count": 5,
     "metadata": {},
     "output_type": "execute_result"
    }
   ],
   "source": [
    "itemsdf = df['Item Occurance']\n",
    "itemsdf"
   ]
  },
  {
   "cell_type": "code",
   "execution_count": 57,
   "metadata": {},
   "outputs": [],
   "source": [
    "def generate_candidates(itemsets, length):\n",
    "    candidates = set()\n",
    "    items = list(itemsets.keys())\n",
    "    for i in range(len(items)):\n",
    "        for j in range(i + 1, len(items)):\n",
    "            candidate = items[i] | items[j]\n",
    "            if len(candidate) == length:\n",
    "                    candidates.add(candidate)\n",
    "    return candidates"
   ]
  },
  {
   "cell_type": "code",
   "execution_count": 58,
   "metadata": {},
   "outputs": [],
   "source": [
    "def apriori(transactions, min_support):\n",
    "    itemsets = {}\n",
    "    for transaction in transactions:\n",
    "        for item in transaction:\n",
    "            itemset = frozenset([item])\n",
    "            if itemset in itemsets:\n",
    "                itemsets[itemset] += 1\n",
    "            else:\n",
    "                itemsets[itemset] = 1\n",
    "    print(itemsets)\n",
    "    itemsets = {k: v for k, v in itemsets.items() if v >= min_support}\n",
    "    length = 2\n",
    "    while True:\n",
    "        candidates = generate_candidates(itemsets, length)\n",
    "        if not candidates:\n",
    "            break\n",
    "        candidate_counts = {candidate: 0 for candidate in candidates}\n",
    "        for transaction in transactions:\n",
    "            for candidate in candidates:\n",
    "                if candidate.issubset(transaction):\n",
    "                    candidate_counts[candidate] += 1\n",
    "        candidate_counts = {k: v for k, v in candidate_counts.items() if v >= min_support}\n",
    "        if not candidate_counts:\n",
    "            break\n",
    "        itemsets.update(candidate_counts)\n",
    "        length += 1\n",
    "\n",
    "    return itemsets"
   ]
  },
  {
   "cell_type": "code",
   "execution_count": 59,
   "metadata": {},
   "outputs": [],
   "source": [
    "def generate_association_rules(frequent_itemsets, min_confidence):\n",
    "    rules = []\n",
    "    for itemset in frequent_itemsets:\n",
    "        if len(itemset) > 1:\n",
    "            for antecedent in combinations(itemset, len(itemset) - 1):\n",
    "                antecedent = frozenset(antecedent)\n",
    "                consequent = itemset - antecedent\n",
    "                confidence = frequent_itemsets[itemset] / frequent_itemsets[antecedent]\n",
    "                if confidence >= min_confidence:\n",
    "                    rules.append((antecedent, consequent, confidence))\n",
    "    return rules"
   ]
  },
  {
   "cell_type": "code",
   "execution_count": 60,
   "metadata": {},
   "outputs": [
    {
     "name": "stdout",
     "output_type": "stream",
     "text": [
      "[['b', 'a'], ['d', 'a', 'c'], ['d', 'c', 'b', 'a'], ['d', 'e', 'a'], ['b', 'c']]\n",
      "{frozenset({'b'}): 3, frozenset({'a'}): 4, frozenset({'d'}): 3, frozenset({'c'}): 3, frozenset({'e'}): 1}\n",
      "Frequent Itemsets:\n",
      "{'b'}: 3\n",
      "{'a'}: 4\n",
      "{'d'}: 3\n",
      "{'c'}: 3\n",
      "{'b', 'a'}: 2\n",
      "{'d', 'c'}: 2\n",
      "{'b', 'c'}: 2\n",
      "{'a', 'c'}: 2\n",
      "{'d', 'a'}: 3\n",
      "{'d', 'a', 'c'}: 2\n",
      "\n",
      "Association Rules:\n",
      "{'b'} -> {'a'} (confidence: 0.6666666666666666)\n",
      "{'a'} -> {'b'} (confidence: 0.5)\n",
      "{'d'} -> {'c'} (confidence: 0.6666666666666666)\n",
      "{'c'} -> {'d'} (confidence: 0.6666666666666666)\n",
      "{'b'} -> {'c'} (confidence: 0.6666666666666666)\n",
      "{'c'} -> {'b'} (confidence: 0.6666666666666666)\n",
      "{'a'} -> {'c'} (confidence: 0.5)\n",
      "{'c'} -> {'a'} (confidence: 0.6666666666666666)\n",
      "{'d'} -> {'a'} (confidence: 1.0)\n",
      "{'a'} -> {'d'} (confidence: 0.75)\n",
      "{'d', 'a'} -> {'c'} (confidence: 0.6666666666666666)\n",
      "{'d', 'c'} -> {'a'} (confidence: 1.0)\n",
      "{'a', 'c'} -> {'d'} (confidence: 1.0)\n"
     ]
    }
   ],
   "source": [
    "transactions =tr\n",
    "print(transactions)\n",
    "\n",
    "min_support = 2\n",
    "frequent_itemsets = apriori(transactions, min_support)\n",
    "\n",
    "min_confidence = 0.5\n",
    "association_rules = generate_association_rules(frequent_itemsets, min_confidence)\n",
    "\n",
    "print(\"Frequent Itemsets:\")\n",
    "for itemset, count in frequent_itemsets.items():\n",
    "    print(f\"{set(itemset)}: {count}\")\n",
    "\n",
    "print(\"\\nAssociation Rules:\")\n",
    "for antecedent, consequent, confidence in association_rules:\n",
    "    print(f\"{set(antecedent)} -> {set(consequent)} (confidence: {confidence})\")"
   ]
  },
  {
   "cell_type": "markdown",
   "metadata": {},
   "source": [
    "# Seconnd Dataset"
   ]
  },
  {
   "cell_type": "code",
   "execution_count": 67,
   "metadata": {},
   "outputs": [
    {
     "data": {
      "text/html": [
       "<div>\n",
       "<style scoped>\n",
       "    .dataframe tbody tr th:only-of-type {\n",
       "        vertical-align: middle;\n",
       "    }\n",
       "\n",
       "    .dataframe tbody tr th {\n",
       "        vertical-align: top;\n",
       "    }\n",
       "\n",
       "    .dataframe thead th {\n",
       "        text-align: right;\n",
       "    }\n",
       "</style>\n",
       "<table border=\"1\" class=\"dataframe\">\n",
       "  <thead>\n",
       "    <tr style=\"text-align: right;\">\n",
       "      <th></th>\n",
       "      <th>TID</th>\n",
       "      <th>ITEMS</th>\n",
       "    </tr>\n",
       "  </thead>\n",
       "  <tbody>\n",
       "    <tr>\n",
       "      <th>0</th>\n",
       "      <td>T1</td>\n",
       "      <td>I1, I2, I5</td>\n",
       "    </tr>\n",
       "    <tr>\n",
       "      <th>1</th>\n",
       "      <td>T2</td>\n",
       "      <td>I2, I4</td>\n",
       "    </tr>\n",
       "    <tr>\n",
       "      <th>2</th>\n",
       "      <td>T3</td>\n",
       "      <td>I2, I3</td>\n",
       "    </tr>\n",
       "    <tr>\n",
       "      <th>3</th>\n",
       "      <td>T4</td>\n",
       "      <td>I1, I2, I4</td>\n",
       "    </tr>\n",
       "    <tr>\n",
       "      <th>4</th>\n",
       "      <td>T5</td>\n",
       "      <td>I1, I3</td>\n",
       "    </tr>\n",
       "    <tr>\n",
       "      <th>5</th>\n",
       "      <td>T6</td>\n",
       "      <td>I2, I3</td>\n",
       "    </tr>\n",
       "    <tr>\n",
       "      <th>6</th>\n",
       "      <td>T7</td>\n",
       "      <td>I1, I3</td>\n",
       "    </tr>\n",
       "    <tr>\n",
       "      <th>7</th>\n",
       "      <td>T8</td>\n",
       "      <td>I1, I2, I3, I5</td>\n",
       "    </tr>\n",
       "  </tbody>\n",
       "</table>\n",
       "</div>"
      ],
      "text/plain": [
       "  TID             ITEMS\n",
       "0   T1       I1, I2, I5\n",
       "1   T2           I2, I4\n",
       "2  T3            I2, I3\n",
       "3   T4       I1, I2, I4\n",
       "4   T5           I1, I3\n",
       "5   T6           I2, I3\n",
       "6  T7            I1, I3\n",
       "7   T8   I1, I2, I3, I5"
      ]
     },
     "execution_count": 67,
     "metadata": {},
     "output_type": "execute_result"
    }
   ],
   "source": [
    "df = pd.read_excel(\"item2.xlsx\")\n",
    "df"
   ]
  },
  {
   "cell_type": "code",
   "execution_count": 74,
   "metadata": {},
   "outputs": [
    {
     "name": "stdout",
     "output_type": "stream",
     "text": [
      "[[' I1, I2, I5'], [' I2, I4'], ['I2, I3'], [' I1, I2, I4'], [' I1, I3'], [' I2, I3'], ['I1, I3'], [' I1, I2, I3, I5']]\n"
     ]
    },
    {
     "data": {
      "text/plain": [
       "[[' I1', ' I2', ' I5'],\n",
       " [' I2', ' I4'],\n",
       " ['I2', ' I3'],\n",
       " [' I1', ' I2', ' I4'],\n",
       " [' I1', ' I3'],\n",
       " [' I2', ' I3'],\n",
       " ['I1', ' I3'],\n",
       " [' I1', ' I2', ' I3', ' I5']]"
      ]
     },
     "execution_count": 74,
     "metadata": {},
     "output_type": "execute_result"
    }
   ],
   "source": [
    "transactions = df.groupby('TID ')['ITEMS'].apply(list).tolist()\n",
    "tr = []\n",
    "print(transactions)\n",
    "for items in transactions:\n",
    "    for item in items:\n",
    "        tr.append(item.split(','))\n",
    "tr"
   ]
  },
  {
   "cell_type": "code",
   "execution_count": 76,
   "metadata": {},
   "outputs": [
    {
     "name": "stdout",
     "output_type": "stream",
     "text": [
      "[[' I1', ' I2', ' I5'], [' I2', ' I4'], ['I2', ' I3'], [' I1', ' I2', ' I4'], [' I1', ' I3'], [' I2', ' I3'], ['I1', ' I3'], [' I1', ' I2', ' I3', ' I5']]\n",
      "{frozenset({' I1'}): 4, frozenset({' I2'}): 5, frozenset({' I5'}): 2, frozenset({' I4'}): 2, frozenset({'I2'}): 1, frozenset({' I3'}): 5, frozenset({'I1'}): 1}\n",
      "Frequent Itemsets:\n",
      "{' I1'}: 4\n",
      "{' I2'}: 5\n",
      "{' I3'}: 5\n",
      "{' I2', ' I1'}: 3\n",
      "\n",
      "Association Rules:\n",
      "{' I2'} -> {' I1'} (confidence: 0.6)\n",
      "{' I1'} -> {' I2'} (confidence: 0.75)\n"
     ]
    }
   ],
   "source": [
    "transactions =tr\n",
    "print(transactions)\n",
    "\n",
    "min_support = 3\n",
    "frequent_itemsets = apriori(transactions, min_support)\n",
    "\n",
    "min_confidence = 0.5\n",
    "association_rules = generate_association_rules(frequent_itemsets, min_confidence)\n",
    "\n",
    "print(\"Frequent Itemsets:\")\n",
    "for itemset, count in frequent_itemsets.items():\n",
    "    print(f\"{set(itemset)}: {count}\")\n",
    "\n",
    "print(\"\\nAssociation Rules:\")\n",
    "for antecedent, consequent, confidence in association_rules:\n",
    "    print(f\"{set(antecedent)} -> {set(consequent)} (confidence: {confidence})\")"
   ]
  },
  {
   "cell_type": "code",
   "execution_count": null,
   "metadata": {},
   "outputs": [],
   "source": []
  }
 ],
 "metadata": {
  "kernelspec": {
   "display_name": "Python 3",
   "language": "python",
   "name": "python3"
  },
  "language_info": {
   "codemirror_mode": {
    "name": "ipython",
    "version": 3
   },
   "file_extension": ".py",
   "mimetype": "text/x-python",
   "name": "python",
   "nbconvert_exporter": "python",
   "pygments_lexer": "ipython3",
   "version": "3.12.5"
  }
 },
 "nbformat": 4,
 "nbformat_minor": 2
}
