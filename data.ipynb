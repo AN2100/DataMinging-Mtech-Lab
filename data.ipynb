{
 "cells": [
  {
   "cell_type": "code",
   "execution_count": 1,
   "metadata": {},
   "outputs": [
    {
     "name": "stdout",
     "output_type": "stream",
     "text": [
      "F-statistic: 0.35, p-value: 0.5681\n",
      "There is no significant correlation.\n"
     ]
    }
   ],
   "source": [
    "import pandas as pd\n",
    "from scipy.stats import f_oneway\n",
    "\n",
    "# Define the data\n",
    "data = {\n",
    "    'Sample': range(1, 13),\n",
    "    'F': [1, 3, 7, 8, 9, 11, 23, 37, 39, 45, 46, 59],\n",
    "    'K': [1, 2, 1, 1, 1, 2, 2, 1, 2, 1, 1, 1]\n",
    "}\n",
    "\n",
    "df = pd.DataFrame(data)\n",
    "\n",
    "# Separate the data into groups based on K\n",
    "group1 = df[df['K'] == 1]['F']\n",
    "group2 = df[df['K'] == 2]['F']\n",
    "\n",
    "# Perform ANOVA\n",
    "f_statistic, p_value = f_oneway(group1, group2)\n",
    "\n",
    "# Print the results\n",
    "print(f\"F-statistic: {f_statistic:.2f}, p-value: {p_value:.4f}\")\n",
    "\n",
    "# Check significance\n",
    "if p_value < 0.1:\n",
    "    print(\"There is a significant correlation.\")\n",
    "else:\n",
    "    print(\"There is no significant correlation.\")\n"
   ]
  },
  {
   "cell_type": "code",
   "execution_count": 2,
   "metadata": {},
   "outputs": [
    {
     "name": "stdout",
     "output_type": "stream",
     "text": [
      "ANOVA for X:\n",
      "F-statistic: 0.00, p-value: 0.9730\n",
      "\n",
      "ANOVA for Y:\n",
      "F-statistic: 0.00, p-value: 0.9637\n",
      "There is no significant difference in X based on C.\n",
      "There is no significant difference in Y based on C.\n"
     ]
    }
   ],
   "source": [
    "import pandas as pd\n",
    "from scipy.stats import f_oneway\n",
    "\n",
    "# Define the data\n",
    "data = {\n",
    "    'X': [1, 5, 9, 13, 17, 21, 24],\n",
    "    'Y': [2, 8, 14, 20, 26, 32, 36],\n",
    "    'C': ['A', 'B', 'A', 'B', 'A', 'B', 'A']\n",
    "}\n",
    "\n",
    "df = pd.DataFrame(data)\n",
    "\n",
    "# Separate the data into groups based on C for X\n",
    "x_group_A = df[df['C'] == 'A']['X']\n",
    "x_group_B = df[df['C'] == 'B']['X']\n",
    "\n",
    "# Perform ANOVA for X\n",
    "f_statistic_x, p_value_x = f_oneway(x_group_A, x_group_B)\n",
    "\n",
    "# Separate the data into groups based on C for Y\n",
    "y_group_A = df[df['C'] == 'A']['Y']\n",
    "y_group_B = df[df['C'] == 'B']['Y']\n",
    "\n",
    "# Perform ANOVA for Y\n",
    "f_statistic_y, p_value_y = f_oneway(y_group_A, y_group_B)\n",
    "\n",
    "# Print the results\n",
    "print(f\"ANOVA for X:\")\n",
    "print(f\"F-statistic: {f_statistic_x:.2f}, p-value: {p_value_x:.4f}\")\n",
    "\n",
    "print(f\"\\nANOVA for Y:\")\n",
    "print(f\"F-statistic: {f_statistic_y:.2f}, p-value: {p_value_y:.4f}\")\n",
    "\n",
    "# Check significance\n",
    "significance_level = 0.1\n",
    "\n",
    "if p_value_x < significance_level:\n",
    "    print(\"There is a significant difference in X based on C.\")\n",
    "else:\n",
    "    print(\"There is no significant difference in X based on C.\")\n",
    "\n",
    "if p_value_y < significance_level:\n",
    "    print(\"There is a significant difference in Y based on C.\")\n",
    "else:\n",
    "    print(\"There is no significant difference in Y based on C.\")\n"
   ]
  },
  {
   "cell_type": "code",
   "execution_count": null,
   "metadata": {},
   "outputs": [],
   "source": []
  }
 ],
 "metadata": {
  "kernelspec": {
   "display_name": "Python 3",
   "language": "python",
   "name": "python3"
  },
  "language_info": {
   "codemirror_mode": {
    "name": "ipython",
    "version": 3
   },
   "file_extension": ".py",
   "mimetype": "text/x-python",
   "name": "python",
   "nbconvert_exporter": "python",
   "pygments_lexer": "ipython3",
   "version": "3.12.5"
  }
 },
 "nbformat": 4,
 "nbformat_minor": 2
}
